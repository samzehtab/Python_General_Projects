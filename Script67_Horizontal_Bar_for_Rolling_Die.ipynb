{
 "cells": [
  {
   "cell_type": "code",
   "execution_count": 242,
   "id": "7ce85f32-8842-4bf6-9886-10a8767c2ff8",
   "metadata": {},
   "outputs": [],
   "source": [
    "# In the name of God\n",
    "# Mohammad Hossein Zehtab\n",
    "# data-analysis-fridays\n",
    "# Lec33 Exercise: Horizontal Bar for Rolling Die\n",
    "\n",
    "# Importing packages\n",
    "import random\n",
    "import pandas as pd\n",
    "import matplotlib.pyplot as plt\n",
    "import seaborn as sns\n",
    "\n",
    "# Set \"ggplot\" setting as default style\n",
    "plt.style.use(\"ggplot\")\n",
    "\n",
    "# create random number generator in seed 1\n",
    "rangen = random.Random(x = 1)    # Reproductibility"
   ]
  },
  {
   "cell_type": "code",
   "execution_count": 244,
   "id": "a96667a1-4967-4303-b1ef-a5b114613479",
   "metadata": {},
   "outputs": [],
   "source": [
    "# Rolling die function\n",
    "def rolling_die(k: int) -> list:\n",
    "    '''\n",
    "    Rolling die k times\n",
    "    '''\n",
    "    result = dict()\n",
    "    for _ in range(k):\n",
    "        roll = rangen.randint(1, 6)\n",
    "        result[roll] = result.get(roll, 0) + 1\n",
    "    return result"
   ]
  },
  {
   "cell_type": "code",
   "execution_count": 246,
   "id": "03a4de8f-bfea-491f-bebe-9e6595fc1931",
   "metadata": {},
   "outputs": [
    {
     "data": {
      "text/html": [
       "<div>\n",
       "<style scoped>\n",
       "    .dataframe tbody tr th:only-of-type {\n",
       "        vertical-align: middle;\n",
       "    }\n",
       "\n",
       "    .dataframe tbody tr th {\n",
       "        vertical-align: top;\n",
       "    }\n",
       "\n",
       "    .dataframe thead th {\n",
       "        text-align: right;\n",
       "    }\n",
       "</style>\n",
       "<table border=\"1\" class=\"dataframe\">\n",
       "  <thead>\n",
       "    <tr style=\"text-align: right;\">\n",
       "      <th></th>\n",
       "      <th>1</th>\n",
       "      <th>2</th>\n",
       "      <th>3</th>\n",
       "      <th>4</th>\n",
       "      <th>5</th>\n",
       "      <th>6</th>\n",
       "    </tr>\n",
       "  </thead>\n",
       "  <tbody>\n",
       "    <tr>\n",
       "      <th>Count</th>\n",
       "      <td>160</td>\n",
       "      <td>166</td>\n",
       "      <td>165</td>\n",
       "      <td>163</td>\n",
       "      <td>183</td>\n",
       "      <td>163</td>\n",
       "    </tr>\n",
       "  </tbody>\n",
       "</table>\n",
       "</div>"
      ],
      "text/plain": [
       "         1    2    3    4    5    6\n",
       "Count  160  166  165  163  183  163"
      ]
     },
     "execution_count": 246,
     "metadata": {},
     "output_type": "execute_result"
    }
   ],
   "source": [
    "### Driver Code ###\n",
    "\n",
    "# Creating a dataframe from rolling a die 1000 times\n",
    "dataser = pd.Series(rolling_die(k = 1000))\n",
    "data = pd.DataFrame(dataser, columns = [\"Count\"])\n",
    "data = data.reindex(range(1,7), axis = 0)\n",
    "data.T"
   ]
  },
  {
   "cell_type": "code",
   "execution_count": 248,
   "id": "f5d74d56-c877-487d-8ac1-e155bad37526",
   "metadata": {},
   "outputs": [
    {
     "data": {
      "image/png": "[encoded data removed]",
      "text/plain": [
       "<Figure size 200x200 with 1 Axes>"
      ]
     },
     "metadata": {},
     "output_type": "display_data"
    }
   ],
   "source": [
    "# Plotting horizontal bar\n",
    "\n",
    "# Create bar chart\n",
    "bars = sns.barplot(\n",
    "    data = data\n",
    "    ,y = data.index\n",
    "    ,x = \"Count\"\n",
    "    ,hue = [\"r\", \"g\", \"b\", \"c\", \"m\", \"y\"]\n",
    "    ,legend=False\n",
    "    ,orient=\"h\"\n",
    "                  )\n",
    "\n",
    "# Adding lables to the bars\n",
    "for container in bars.containers:\n",
    "    bars.bar_label(container, color = \"crimson\")\n",
    "\n",
    "# Adding title and axis lable\n",
    "bars.set_title(\"Rolling a Six-Sided Die 1000 times\")\n",
    "bars.set_ylabel(\"Outcome\")\n",
    "\n",
    "# Setting color of spines\n",
    "bars.spines[\"left\"].set_color(\"olive\")\n",
    "bars.spines[\"bottom\"].set_color(\"olive\")\n",
    "\n",
    "# Setting line width of spines\n",
    "bars.spines[\"left\"].set_linewidth(2)\n",
    "bars.spines[\"bottom\"].set_linewidth(2)\n",
    "\n",
    "# Display the plot\n",
    "plt.show()"
   ]
  }
 ],
 "metadata": {
  "kernelspec": {
   "display_name": "Python 3 (ipykernel)",
   "language": "python",
   "name": "python3"
  },
  "language_info": {
   "codemirror_mode": {
    "name": "ipython",
    "version": 3
   },
   "file_extension": ".py",
   "mimetype": "text/x-python",
   "name": "python",
   "nbconvert_exporter": "python",
   "pygments_lexer": "ipython3",
   "version": "3.12.4"
  }
 },
 "nbformat": 4,
 "nbformat_minor": 5
}
