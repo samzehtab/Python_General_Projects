{
 "cells": [
  {
   "cell_type": "code",
   "execution_count": 9,
   "id": "d35f0ebc-0c6f-48a1-9f2a-f8552496a7d0",
   "metadata": {},
   "outputs": [
    {
     "name": "stdout",
     "output_type": "stream",
     "text": [
      "S = [0, 1, 4, 9, 16, 25, 36, 49, 64, 81]\n",
      "\n",
      "V = [1, 2, 4, 8, 16, 32, 64, 128, 256, 512, 1024, 2048, 4096]\n",
      "\n",
      "M = [0, 4, 16, 36, 64]\n"
     ]
    }
   ],
   "source": [
    "# In the name of God\n",
    "# Mohammad Hossein Zehtab\n",
    "# data-analysis-fridays\n",
    "# Example 01: math and list comprehension\n",
    "\n",
    "# Q.1.\n",
    "# S = {x² : x in {0 ... 9}}\n",
    "S = [x ** 2 for x in range(10)]\n",
    "print(f'{S = }')\n",
    "\n",
    "# V = (1, 2, 4, 8, ..., 2¹²)\n",
    "V = [2 ** x for x in range(13)]\n",
    "print(f'\\n{V = }')\n",
    "\n",
    "# M = {x | x in S and x even}\n",
    "M = [x for x in S if x % 2 == 0]\n",
    "print(f'\\n{M = }')"
   ]
  },
  {
   "cell_type": "code",
   "execution_count": 22,
   "id": "45318265-8509-494a-af6b-8f3d5f9641a9",
   "metadata": {},
   "outputs": [
    {
     "name": "stdout",
     "output_type": "stream",
     "text": [
      "Feet using list comprehension = [128608.92800000001, 119750.66, 122375.332, 124015.752]\n",
      "\n",
      "Feet using map function = [128608.92800000001, 119750.66, 122375.332, 124015.752]\n",
      "\n",
      "\n",
      "Reduced feet using list comprehension = 494750.672\n"
     ]
    }
   ],
   "source": [
    "# In the name of God\n",
    "# Mohammad Hossein Zehtab\n",
    "# data-analysis-fridays\n",
    "# Example 02: Convert kilometer to foot\n",
    "\n",
    "# Initialize the `kilometer` list \n",
    "kilometer = [39.2, 36.5, 37.3, 37.8]\n",
    "\n",
    "# Q.1. Using list comprehension convert 1km to feet\n",
    "feet_lc = [3_280.84 * i for i in kilometer]\n",
    "print(f'Feet using list comprehension = {feet_lc}')\n",
    "\n",
    "# Q.2. Using map(func, iterable) convert 1km to feet\n",
    "feet_map = list(map(lambda x : 3_280.84 * x, kilometer))\n",
    "print(f'\\nFeet using map function = {feet_map}')\n",
    "\n",
    "\n",
    "# construct redused feet using reduce(function, iterable)\n",
    "from functools import reduce\n",
    "reduced_feet = reduce(lambda x,y : x + y, feet)\n",
    "\n",
    "# Q.1. Construct reduced feet using list comprehension\n",
    "reduced_feet_lc = sum([i for i in feet_lc])\n",
    "print(f'\\n\\nReduced feet using list comprehension = {reduced_feet_lc}')\n",
    "\n",
    "# Q.2. Construct reduced feet using generator expression"
   ]
  },
  {
   "cell_type": "code",
   "execution_count": 20,
   "id": "61fc29be-8cab-4762-9ede-d23c4cb4b4c6",
   "metadata": {},
   "outputs": [
    {
     "name": "stdout",
     "output_type": "stream",
     "text": [
      "divided = [0, 6, 12, 18, 24, 30, 36, 42, 48, 54, 60, 66, 72, 78, 84, 90, 96]\n"
     ]
    }
   ],
   "source": [
    "# In the name of God\n",
    "# Mohammad Hossein Zehtab\n",
    "# data-analysis-fridays\n",
    "# Example 03: multiple if statements\n",
    "\n",
    "# Suppose we have the following code\n",
    "# divided = []\n",
    "# for x in range(100):\n",
    "#     if x%2 == 0 :\n",
    "#         if x%6 == 0:\n",
    "#             divided.append(x)\n",
    "\n",
    "# Q.1. Translate the given code to a one line of code using list comprehension.\n",
    "\n",
    "divided = [x for x in range(100) if x%2 == 0 if x%6 == 0]\n",
    "print(f'{divided = }')"
   ]
  },
  {
   "cell_type": "code",
   "execution_count": 23,
   "id": "d3e25677-5024-465e-a33d-c755c8667385",
   "metadata": {},
   "outputs": [
    {
     "name": "stdout",
     "output_type": "stream",
     "text": [
      "thenewlist = [6, 7, 4, 5, 6]\n"
     ]
    }
   ],
   "source": [
    "# In the name of God\n",
    "# Mohammad Hossein Zehtab\n",
    "# data-analysis-fridays\n",
    "# Example 04: if else and list comprehension\n",
    "\n",
    "# Suppose we have the following code\n",
    "# theoldlist = [1, 2, 3, 4, 5]\n",
    "# thenewlist = []\n",
    "# for x in theoldlst:  \n",
    "#     if x >= 3:\n",
    "#         thenewlist.append(x+1)\n",
    "#     else: \n",
    "#         thenewlist.append(x+5)\n",
    "\n",
    "# Q.1. Translate the above code to a one line of code using list comprehension.\n",
    "\n",
    "theoldlist = [1, 2, 3, 4, 5]\n",
    "thenewlist = [x+1 if x >= 3 else x+5 for x in theoldlist]\n",
    "print(f'{thenewlist = }')"
   ]
  },
  {
   "cell_type": "code",
   "execution_count": 25,
   "id": "8b807f6e-98d0-4319-9a21-8e7b91a6add8",
   "metadata": {},
   "outputs": [
    {
     "name": "stdout",
     "output_type": "stream",
     "text": [
      "flatten_list = [1, 2, 3, 4, 5, 6, 7, 8, 9]\n"
     ]
    }
   ],
   "source": [
    "# In the name of God\n",
    "# Mohammad Hossein Zehtab\n",
    "# data-analysis-fridays\n",
    "# Example 05: flattening\n",
    "\n",
    "# We have the following matrix\n",
    "# list_of_list = [[1,2,3],[4,5,6],[7,8,9]]\n",
    "\n",
    "# Q.1. Flatten `list_of_list` using list comprehension.\n",
    "\n",
    "list_of_list = [[1,2,3]\n",
    "                ,[4,5,6]\n",
    "                ,[7,8,9]]\n",
    "flatten_list = [elem for row in list_of_list for elem in row]\n",
    "print(f'{flatten_list = }')"
   ]
  },
  {
   "cell_type": "code",
   "execution_count": 26,
   "id": "869dcf34-c3bf-48c0-91cc-adb4ebe37b56",
   "metadata": {},
   "outputs": [
    {
     "name": "stdout",
     "output_type": "stream",
     "text": [
      "transpose_matrix = [[1, 4, 7], [2, 5, 8], [3, 6, 9]]\n"
     ]
    }
   ],
   "source": [
    "# In the name of God\n",
    "# Mohammad Hossein Zehtab\n",
    "# data-analysis-fridays\n",
    "# Example 06: transposing\n",
    "\n",
    "# # We have the following matrix\n",
    "# matrix= [[1,2,3],[4,5,6],[7,8,9]]\n",
    "\n",
    "# # Transpose `matrix` using for loops\n",
    "# for i in range(len(matrix[0])):\n",
    "#     for j in range(len(matrix)):\n",
    "#         print(matrix[j][i], end=' ')\n",
    "#     print()\n",
    "    \n",
    "# Q.1. Transpose `matrix` using list comprehension.\n",
    "\n",
    "matrix= [[1,2,3]\n",
    "         ,[4,5,6]\n",
    "         ,[7,8,9]]\n",
    "transpose_matrix = [[matrix[j][i] for j in range(len(matrix))] for i in range(len(matrix[0]))]\n",
    "print(f'{transpose_matrix = }')"
   ]
  },
  {
   "cell_type": "code",
   "execution_count": 28,
   "id": "8d57819d-4afe-420d-bee7-b95d7db38555",
   "metadata": {},
   "outputs": [
    {
     "name": "stdout",
     "output_type": "stream",
     "text": [
      "zero_matrix = [[0, 0, 0, 0], [0, 0, 0, 0], [0, 0, 0, 0]]\n"
     ]
    }
   ],
   "source": [
    "# In the name of God\n",
    "# Mohammad Hossein Zehtab\n",
    "# data-analysis-fridays\n",
    "# Example 07: matrix of zeros\n",
    "\n",
    "# # We have the following code\n",
    "# matrix = []\n",
    "# for x in range(3):\n",
    "#     nested = []\n",
    "#     matrix.append(nested)\n",
    "#     for row in range(4):\n",
    "#         nested.append(0)\n",
    "# print(matrix)\n",
    "\n",
    "# Q.1. Translate the above code to a one line of code using list comprehension\n",
    "\n",
    "zero_matrix = [[0 for row in range(4)] for x in range(3)]\n",
    "print(f'{zero_matrix = }')"
   ]
  },
  {
   "cell_type": "code",
   "execution_count": 29,
   "id": "12ae7112-1f92-45f8-bcd4-f0266e7a60f5",
   "metadata": {},
   "outputs": [
    {
     "name": "stdout",
     "output_type": "stream",
     "text": [
      "one_matrix = [[1, 1, 1, 1], [1, 1, 1, 1], [1, 1, 1, 1]]\n"
     ]
    }
   ],
   "source": [
    "# In the name of God\n",
    "# Mohammad Hossein Zehtab\n",
    "# data-analysis-fridays\n",
    "# Example 08: matrix of ones\n",
    "\n",
    "# # We have the following code\n",
    "# matrix = []\n",
    "# for x in range(3):\n",
    "#     nested = []\n",
    "#     matrix.append(nested)\n",
    "#     for row in range(4):\n",
    "#         nested.append(1)\n",
    "# print(matrix)\n",
    "\n",
    "# Q.1. Translate the above code to a one line of code using list comprehension\n",
    "\n",
    "one_matrix = [[1 for row in range(4)] for x in range(3)]\n",
    "print(f'{one_matrix = }')"
   ]
  },
  {
   "cell_type": "code",
   "execution_count": 22,
   "id": "3f549187-cee1-4579-b136-9e0fce2b16cf",
   "metadata": {},
   "outputs": [
    {
     "ename": "SyntaxError",
     "evalue": "invalid syntax (1575790893.py, line 10)",
     "output_type": "error",
     "traceback": [
      "\u001b[1;36m  Cell \u001b[1;32mIn[22], line 10\u001b[1;36m\u001b[0m\n\u001b[1;33m    list_of_digits = [num % 10 and num : num // 10 if num > 0 for i in range(1_000)]\u001b[0m\n\u001b[1;37m                                       ^\u001b[0m\n\u001b[1;31mSyntaxError\u001b[0m\u001b[1;31m:\u001b[0m invalid syntax\n"
     ]
    }
   ],
   "source": [
    "# In the name of God\n",
    "# Mohammad Hossein Zehtab\n",
    "# data-analysis-fridays\n",
    "# Example 09: count digits of a number\n",
    "\n",
    "# # We have the following integer\n",
    "num = 124\n",
    "\n",
    "# Q.1. Count the number of digits in num using list comprehension.\n",
    "list_of_digits = [num % 10 num : num // 10 if num > 0 for i in range(1_000)]\n",
    "number_of_digits = len(list_of_digits)\n",
    "print(f'{number_of_digits = }')\n",
    "\n",
    "# Q.2. Count the number of digits in num using generator expression.\n",
    "\n",
    "# Q.3. Find sum of all digits in num using generator expression.\n",
    "\n",
    "# Q.4. Find the average of all digits in num."
   ]
  },
  {
   "cell_type": "code",
   "execution_count": null,
   "id": "9bad0fea-c2a6-4c92-a3ff-a253082efdd8",
   "metadata": {},
   "outputs": [],
   "source": []
  }
 ],
 "metadata": {
  "kernelspec": {
   "display_name": "Python 3 (ipykernel)",
   "language": "python",
   "name": "python3"
  },
  "language_info": {
   "codemirror_mode": {
    "name": "ipython",
    "version": 3
   },
   "file_extension": ".py",
   "mimetype": "text/x-python",
   "name": "python",
   "nbconvert_exporter": "python",
   "pygments_lexer": "ipython3",
   "version": "3.12.3"
  }
 },
 "nbformat": 4,
 "nbformat_minor": 5
}
